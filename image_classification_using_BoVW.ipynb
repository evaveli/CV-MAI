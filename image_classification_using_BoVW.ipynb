{
  "cells": [
    {
      "cell_type": "markdown",
      "metadata": {
        "id": "Sk0eYw8ojrFq"
      },
      "source": [
        "# Laboratory #07 : Image Classification using Bag of Visual Words\n",
        "\n",
        "At the end of this laboratory, you would get familiarized with\n",
        "\n",
        "*   Creating Bag of Visual Words\n",
        "    *   Feature Extraction\n",
        "    *   Codebook construction\n",
        "    *   Classification\n",
        "\n",
        "**Remember this is a graded exercise.**\n",
        "\n",
        "*   For every plot, make sure you provide appropriate titles, axis labels, legends, wherever applicable.\n",
        "*   Create reusable functions where ever possible, so that the code could be reused at different places.\n",
        "*   Mount your drive to access the images.\n",
        "*   Add sufficient comments and explanations wherever necessary.\n",
        "\n",
        "---"
      ]
    },
    {
      "cell_type": "markdown",
      "source": [
        "# **Students** (First Name and Last Name)\n",
        "\n",
        "1. Tatevik Davtyan\n",
        "2. Eva Veli\n",
        "\n",
        "---"
      ],
      "metadata": {
        "id": "YLt_XrxD7acj"
      }
    },
    {
      "cell_type": "code",
      "execution_count": null,
      "metadata": {
        "id": "aD5-E8PuaQ5P"
      },
      "outputs": [],
      "source": [
        "# Loading necessary libraries (Feel free to add new libraries if you need for any computation)\n",
        "\n",
        "import os\n",
        "import numpy as np\n",
        "\n",
        "from skimage.feature import ORB\n",
        "from skimage.color import rgb2gray\n",
        "from skimage.io import imread\n",
        "from scipy.cluster.vq import vq\n",
        "from sklearn.model_selection import train_test_split\n",
        "from sklearn.cluster import MiniBatchKMeans\n",
        "from matplotlib import pyplot as plt\n"
      ]
    },
    {
      "cell_type": "markdown",
      "metadata": {
        "id": "ampx9DIJiuGN"
      },
      "source": [
        "# Loading dataset\n",
        "\n",
        "We will use 3 categories from Caltech 101 objects dataset for this experiment.\n",
        "The subset of images is provided along with the notebook.\n",
        "Upload the dataset to the drive and mount it."
      ]
    },
    {
      "cell_type": "code",
      "source": [
        "from google.colab import drive\n",
        "drive.mount('/content/drive')"
      ],
      "metadata": {
        "colab": {
          "base_uri": "https://localhost:8080/"
        },
        "id": "o1d6lvAF5rng",
        "outputId": "546cc044-62c2-4b6a-e8ad-e2fbd55ef785"
      },
      "execution_count": null,
      "outputs": [
        {
          "output_type": "stream",
          "name": "stdout",
          "text": [
            "Drive already mounted at /content/drive; to attempt to forcibly remount, call drive.mount(\"/content/drive\", force_remount=True).\n"
          ]
        }
      ]
    },
    {
      "cell_type": "code",
      "execution_count": null,
      "metadata": {
        "id": "PRSJP1XbG6-a"
      },
      "outputs": [],
      "source": [
        "# modify the dataset variable with the path from your drive\n",
        "dataset_path = '/content/drive/My Drive/CVLab_Images'\n"
      ]
    },
    {
      "cell_type": "code",
      "execution_count": null,
      "metadata": {
        "id": "fNoe7u755X6Q"
      },
      "outputs": [],
      "source": [
        "categories = ['butterfly', 'kangaroo', 'dalmatian']"
      ]
    },
    {
      "cell_type": "markdown",
      "metadata": {
        "id": "gxY0mDoK5EQj"
      },
      "source": [
        "*   Create a list of file and the corresponding labels"
      ]
    },
    {
      "cell_type": "code",
      "execution_count": null,
      "metadata": {
        "id": "EQptvDX5AFem"
      },
      "outputs": [],
      "source": [
        "# solution\n",
        "data = []\n",
        "for category in categories:\n",
        "    folder_path = os.path.join(dataset_path, category)\n",
        "    for file in os.listdir(folder_path):\n",
        "      file_path = os.path.join(folder_path, file)\n",
        "      data.append((file_path, category))"
      ]
    },
    {
      "cell_type": "code",
      "execution_count": null,
      "metadata": {
        "id": "3x42veHz5LDt",
        "colab": {
          "base_uri": "https://localhost:8080/"
        },
        "outputId": "da0342fb-cc14-444c-e265-20ca261424c4"
      },
      "outputs": [
        {
          "output_type": "stream",
          "name": "stdout",
          "text": [
            "Total number of images: 244\n"
          ]
        }
      ],
      "source": [
        "print('Total number of images:', len(data))"
      ]
    },
    {
      "cell_type": "markdown",
      "metadata": {
        "id": "XgVhdjYz5Zhs"
      },
      "source": [
        "*   Create a train / test split where the test is 10% of the total data"
      ]
    },
    {
      "cell_type": "code",
      "execution_count": null,
      "metadata": {
        "id": "QzYnjzXBZXXt"
      },
      "outputs": [],
      "source": [
        "# solution\n",
        "paths, labels = zip(*data)\n",
        "x_train, x_test, train_y, test_y= train_test_split(paths, labels, test_size=0.1, random_state=30)\n"
      ]
    },
    {
      "cell_type": "code",
      "execution_count": null,
      "metadata": {
        "id": "gd057lAc5jze",
        "colab": {
          "base_uri": "https://localhost:8080/"
        },
        "outputId": "0ddd76be-8a57-46fc-b0e1-a4d480446aee"
      },
      "outputs": [
        {
          "output_type": "stream",
          "name": "stdout",
          "text": [
            "Train set: 219\n",
            "Test set: 25\n"
          ]
        }
      ],
      "source": [
        "print('Train set:', len(x_train))\n",
        "print('Test set:', len(x_test))"
      ]
    },
    {
      "cell_type": "markdown",
      "metadata": {
        "id": "_Hl36Ej_5k6Y"
      },
      "source": [
        "*   How do you select the train/test split?"
      ]
    },
    {
      "cell_type": "markdown",
      "metadata": {
        "id": "-aOe27Kx5vtd"
      },
      "source": [
        "**Solution**\n",
        "There isn't any universal train/test split for every problem. In any case, we should use shuffle = True ( this is default) for splitting the data so that we are not biased towards certain classes when splitting.The most common ones are 80/20, 70/30 and 90/10 but the best train/test split percentage depends on the number of the data, the models running time etc.\n"
      ]
    },
    {
      "cell_type": "markdown",
      "metadata": {
        "id": "18OZf2kfkVNB"
      },
      "source": [
        "# Feature Extraction using ORB\n",
        "\n",
        "The first step is to extract descriptors for each image in our dataset. We will use ORB to extract descriptors.\n",
        "\n",
        "*   Create ORB detector with 64 keypoints.\n"
      ]
    },
    {
      "cell_type": "code",
      "execution_count": null,
      "metadata": {
        "id": "ptLbPcoow-ar"
      },
      "outputs": [],
      "source": [
        "# solution\n",
        "n = 64\n",
        "descriptor_extractor = ORB(n_keypoints=n)"
      ]
    },
    {
      "cell_type": "markdown",
      "metadata": {
        "id": "3yinPkL8brow"
      },
      "source": [
        "*   Extract ORB descriptors from all the images in the train set.\n"
      ]
    },
    {
      "cell_type": "code",
      "execution_count": null,
      "metadata": {
        "id": "PCiXJeLFxGtP"
      },
      "outputs": [],
      "source": [
        "# solution\n",
        "def extract_descriptors(x_train,descriptor_extractor):\n",
        "  descriptors = []\n",
        "  for path in x_train:\n",
        "    image = imread(path,as_gray = True)\n",
        "    descriptor_extractor.detect_and_extract(image)\n",
        "    descriptors.append(descriptor_extractor.descriptors)\n",
        "  return descriptors\n",
        "descriptors = extract_descriptors(x_train,descriptor_extractor)\n"
      ]
    },
    {
      "cell_type": "markdown",
      "metadata": {
        "id": "GJehFdyt583b"
      },
      "source": [
        "*   What is the size of the feature descriptors? What does each dimension represent in the feature descriptors?"
      ]
    },
    {
      "cell_type": "code",
      "execution_count": null,
      "metadata": {
        "id": "bzTspvF96LeC",
        "colab": {
          "base_uri": "https://localhost:8080/"
        },
        "outputId": "895492a9-9221-4d36-b466-e84b0c36d86c"
      },
      "outputs": [
        {
          "output_type": "stream",
          "name": "stdout",
          "text": [
            "train set size: 219\n",
            "number of keypoints: 64\n",
            "descriptor's size: 256\n"
          ]
        }
      ],
      "source": [
        "# solution\n",
        "print(\"train set size:\", len(descriptors))\n",
        "print(\"number of keypoints:\", len(descriptors[0]))\n",
        "print(\"descriptor's size:\",len(descriptors[0][0]) )\n"
      ]
    },
    {
      "cell_type": "markdown",
      "metadata": {
        "id": "MNFOjsRj6PGk"
      },
      "source": [
        "**Solution**\n",
        "\n",
        "As you can see, we have 219 images, each image includes 64 peypoints because we directly mentioning in the implementation that ORB should find the best 64 keypoints, and for each keypoint we have 256 elements for the descriptor. In this case, the defaul is 256, which is obtained from sampling 256 pairwise intensity comparisons from 31x31 patch."
      ]
    },
    {
      "cell_type": "markdown",
      "metadata": {
        "id": "420YQkAzleTQ"
      },
      "source": [
        "# Codebook Construction\n",
        "\n",
        "Codewords are nothing but vector representation of similar patches. This codeword produces a codebook similar to a word dictionary. We will create the codebook using K-Means algorithm\n",
        "\n",
        "*   Create a codebook using K-Means with k=number_of_classes*10\n",
        "*   Hint: Use [sklearn.cluster.MiniBatchKMeans](https://scikit-learn.org/stable/modules/generated/sklearn.cluster.MiniBatchKMeans.html) for K-Means"
      ]
    },
    {
      "cell_type": "code",
      "execution_count": null,
      "metadata": {
        "id": "iO0e4718ppJt"
      },
      "outputs": [],
      "source": [
        "# solution\n",
        "def get_all_desriptors(descriptors):\n",
        "  all_descriptors = []\n",
        "  for image in descriptors:\n",
        "    for descriptor in image:\n",
        "      all_descriptors.append(descriptor)\n",
        "  return all_descriptors\n",
        "def kMeans(all_descriptors):\n",
        "  kmeans = MiniBatchKMeans(n_clusters=30, random_state=30,batch_size=6)\n",
        "  kmeans = kmeans.partial_fit(all_descriptors)\n",
        "  predictions = kmeans.predict(all_descriptors)\n",
        "  return predictions,kmeans\n",
        "all_descriptors = get_all_desriptors(descriptors)\n",
        "predictions,kmeans = kMeans(all_descriptors)\n",
        "\n"
      ]
    },
    {
      "cell_type": "markdown",
      "metadata": {
        "id": "0GAD_JuNpqMt"
      },
      "source": [
        "*   Create a histogram using the cluster centers for each image descriptor.\n",
        "    *   Remember the histogram would be of size *n_images x n_clusters*."
      ]
    },
    {
      "cell_type": "code",
      "execution_count": null,
      "metadata": {
        "id": "SR0_9HnbDFBe"
      },
      "outputs": [],
      "source": [
        "# solution\n",
        "def create_histograms(descriptors,predictions):\n",
        "  histograms = []\n",
        "  for i in range(len(descriptors)):\n",
        "    image = descriptors[i]\n",
        "    image_predictions = predictions[i*n:n*(i+1)]\n",
        "    histogram, _ = np.histogram(image_predictions, bins=np.arange(31))\n",
        "    histograms.append(histogram)\n",
        "  return histograms\n",
        "histograms = create_histograms(descriptors,predictions)\n",
        "\n"
      ]
    },
    {
      "cell_type": "code",
      "source": [
        "# let's plot the histogram for one of the images\n",
        "plt.figure(figsize=(10, 5))\n",
        "plt.bar(range(30), histograms[0], align='center', alpha=0.7)\n",
        "plt.title(f\"Histogram of an image\")\n",
        "plt.xlabel(\"Cluster number\")\n",
        "plt.ylabel(\"Frequency\")\n",
        "plt.xticks(range(30))\n",
        "plt.show()"
      ],
      "metadata": {
        "colab": {
          "base_uri": "https://localhost:8080/",
          "height": 487
        },
        "id": "_kNsuXvBNVSw",
        "outputId": "33ae3d66-0bfd-47ab-8c62-4733bae05dae"
      },
      "execution_count": null,
      "outputs": [
        {
          "output_type": "display_data",
          "data": {
            "text/plain": [
              "<Figure size 1000x500 with 1 Axes>"
            ],
            "image/png": "[encoded data removed]"
          },
          "metadata": {}
        }
      ]
    },
    {
      "cell_type": "markdown",
      "metadata": {
        "id": "jmRO7dfLjgZa"
      },
      "source": [
        "\n",
        "# Creating Classification Model\n",
        "\n",
        "*   The next step is to create a classification model. We will use a [C-Support Vector Classification](https://scikit-learn.org/stable/modules/generated/sklearn.svm.SVC.html) for creating the model.\n",
        "\n"
      ]
    },
    {
      "cell_type": "code",
      "execution_count": null,
      "metadata": {
        "id": "K7VTBz1Oimtz"
      },
      "outputs": [],
      "source": [
        "from sklearn.svm import SVC\n",
        "from sklearn.model_selection import GridSearchCV"
      ]
    },
    {
      "cell_type": "markdown",
      "metadata": {
        "id": "lrit95Ud6pUU"
      },
      "source": [
        "*   Use [GridSearchCV](https://scikit-learn.org/stable/modules/generated/sklearn.model_selection.GridSearchCV.html) to find the optimal value of C and Gamma."
      ]
    },
    {
      "cell_type": "code",
      "execution_count": null,
      "metadata": {
        "id": "IjFFpykV-GOI"
      },
      "outputs": [],
      "source": [
        "# solution\n",
        "parameters = {'gamma':('scale', 'auto'), 'C':[1,3,5, 10]}\n",
        "def grid_SVC(parameters,histograms,train_y):\n",
        "  svc = SVC()\n",
        "  clf = GridSearchCV(svc, parameters)\n",
        "  clf.fit(histograms,train_y)\n",
        "  return clf\n",
        "clf = grid_SVC(parameters,histograms,train_y)\n",
        "\n"
      ]
    },
    {
      "cell_type": "code",
      "source": [
        "clf.best_params_\n"
      ],
      "metadata": {
        "colab": {
          "base_uri": "https://localhost:8080/"
        },
        "id": "PmIf-YRRQ7Ig",
        "outputId": "0597f2f0-ceed-4229-c37a-b27104be2f5e"
      },
      "execution_count": null,
      "outputs": [
        {
          "output_type": "execute_result",
          "data": {
            "text/plain": [
              "{'C': 1, 'gamma': 'scale'}"
            ]
          },
          "metadata": {},
          "execution_count": 24
        }
      ]
    },
    {
      "cell_type": "code",
      "source": [
        "clf.best_score_"
      ],
      "metadata": {
        "colab": {
          "base_uri": "https://localhost:8080/"
        },
        "id": "PKwSRSKeYa_z",
        "outputId": "2b3f4a67-e00e-46e3-e87a-7de4595ab9fc"
      },
      "execution_count": null,
      "outputs": [
        {
          "output_type": "execute_result",
          "data": {
            "text/plain": [
              "0.5706131078224101"
            ]
          },
          "metadata": {},
          "execution_count": 25
        }
      ]
    },
    {
      "cell_type": "markdown",
      "source": [
        "As we can see, according to the GridSearch, the best parameters are 1 for C and 'gamma\" for scale, which it found by using accuracy by default. Hence with the best model we get 0.57 accuracy on the train set."
      ],
      "metadata": {
        "id": "x5-NqJ0cReo3"
      }
    },
    {
      "cell_type": "markdown",
      "metadata": {
        "id": "eqThTmO5j1-p"
      },
      "source": [
        "# Testing the Classification Model\n",
        "\n",
        "*   Extract descriptors using ORB for the test split\n",
        "*   Use the previously trained k-means to generate the histogram\n",
        "*   Use the classifier to predict the label\n"
      ]
    },
    {
      "cell_type": "markdown",
      "source": [],
      "metadata": {
        "id": "Eno55mj4Qk3k"
      }
    },
    {
      "cell_type": "code",
      "execution_count": null,
      "metadata": {
        "id": "x2Gzbww9e0pP"
      },
      "outputs": [],
      "source": [
        "# solution\n",
        "best_model = clf.best_estimator_\n",
        "descriptors = extract_descriptors(x_test,descriptor_extractor)\n",
        "all_descriptors = get_all_desriptors(descriptors)\n",
        "predictions = kmeans.predict(all_descriptors)\n",
        "histograms = create_histograms(descriptors,predictions)\n",
        "classification_prediction = best_model.predict(histograms)\n"
      ]
    },
    {
      "cell_type": "markdown",
      "metadata": {
        "id": "gGyQUtU3lAEz"
      },
      "source": [
        "*   Calculate the accuracy score for the classification model"
      ]
    },
    {
      "cell_type": "code",
      "execution_count": null,
      "metadata": {
        "id": "PszxSB0Ek_Lt",
        "colab": {
          "base_uri": "https://localhost:8080/"
        },
        "outputId": "5f0289f8-f3a2-4e07-e59d-6e5af5a7b95c"
      },
      "outputs": [
        {
          "output_type": "stream",
          "name": "stdout",
          "text": [
            "Accuracy for the test set:  0.56\n"
          ]
        }
      ],
      "source": [
        "# solution\n",
        "from sklearn.metrics import accuracy_score\n",
        "print(\"Accuracy for the test set: \",accuracy_score(test_y,classification_prediction))\n"
      ]
    },
    {
      "cell_type": "markdown",
      "metadata": {
        "id": "drlq-5AM615_"
      },
      "source": [
        "*   Generate the confusion matrix for the classification model"
      ]
    },
    {
      "cell_type": "code",
      "execution_count": null,
      "metadata": {
        "id": "NpqXVYrw61OG",
        "colab": {
          "base_uri": "https://localhost:8080/"
        },
        "outputId": "43c27f16-5e95-458a-a9ed-00552cce400d"
      },
      "outputs": [
        {
          "output_type": "execute_result",
          "data": {
            "text/plain": [
              "array([[6, 2, 5],\n",
              "       [0, 6, 1],\n",
              "       [1, 2, 2]])"
            ]
          },
          "metadata": {},
          "execution_count": 32
        }
      ],
      "source": [
        "# solution\n",
        "from sklearn.metrics import confusion_matrix\n",
        "confusion_matrix(test_y,classification_prediction)\n",
        "\n"
      ]
    },
    {
      "cell_type": "markdown",
      "metadata": {
        "id": "7TN4rRra9yv_"
      },
      "source": [
        "*   Why do we use Clustering to create the codebook?\n",
        "*   What are the other techniques that can be used to create the codebook?"
      ]
    },
    {
      "cell_type": "markdown",
      "metadata": {
        "id": "Ri9kU3wa3Rei"
      },
      "source": [
        "**Solution**\n",
        "\n",
        "Since after ORB we have various keypoints, and they should be combined (cluster) to some groups where we except to have similar features so that later we can use thous different clusters for the histogram.\n",
        "Although mostly clustering is used, other techniues for creating codebook include self-organising maps, additive kernel based,PCA based,Linde Buzo Gray etc.\n",
        "\n",
        "\n",
        "..."
      ]
    },
    {
      "cell_type": "markdown",
      "metadata": {
        "id": "b47OqebCOXpq"
      },
      "source": [
        "# Increased Feature Dimensions\n",
        "\n",
        "*   Repeat the classification using features of 256 ORB keypoints."
      ]
    },
    {
      "cell_type": "code",
      "execution_count": null,
      "metadata": {
        "id": "CiY8GERXOxbB",
        "colab": {
          "base_uri": "https://localhost:8080/"
        },
        "outputId": "376ecd33-ee21-41d4-dbc8-4ad6192559d0"
      },
      "outputs": [
        {
          "output_type": "stream",
          "name": "stdout",
          "text": [
            "Accuracy for the train set:  0.6025369978858351\n",
            "Accuracy for the test set:  0.68\n"
          ]
        }
      ],
      "source": [
        "# solution\n",
        "n = 256\n",
        "descriptor_extractor = ORB(n_keypoints=n)\n",
        "descriptors = extract_descriptors(x_train,descriptor_extractor)\n",
        "all_descriptors = get_all_desriptors(descriptors)\n",
        "predictions,kmeans = kMeans(all_descriptors)\n",
        "histograms = create_histograms(descriptors,predictions)\n",
        "clf = grid_SVC(parameters,histograms,train_y)\n",
        "print(\"Accuracy for the train set: \", clf.best_score_)\n",
        "\n",
        "best_model = clf.best_estimator_\n",
        "descriptors = extract_descriptors(x_test,descriptor_extractor)\n",
        "all_descriptors = get_all_desriptors(descriptors)\n",
        "predictions = kmeans.predict(all_descriptors)\n",
        "histograms = create_histograms(descriptors,predictions)\n",
        "classification_prediction = best_model.predict(histograms)\n",
        "print(\"Accuracy for the test set: \",accuracy_score(test_y,classification_prediction))\n",
        "\n",
        "\n",
        "\n",
        "\n"
      ]
    },
    {
      "cell_type": "markdown",
      "metadata": {
        "id": "Ucf5mIeHOzBf"
      },
      "source": [
        "*   What is the difference in classifier performance between using 64 keypoints and 256 keypoints?"
      ]
    },
    {
      "cell_type": "markdown",
      "metadata": {
        "id": "AJt7kpHcO5nV"
      },
      "source": [
        "**Solution**\n",
        "\n",
        "As we can see, the acuracy of both the train and test sets is increased when we obtain more keypoints. This means that the both the generalization and specialization is improved. We believe that the performance imrpoved because by having more keypoints in the image we get more information about the image and what it contains which helps the model to classifier easier.\n",
        "\n",
        "..."
      ]
    },
    {
      "cell_type": "markdown",
      "metadata": {
        "id": "ll0j8G-oIaHd"
      },
      "source": [
        "*   Will further adding more keypoints increase the performance of the algorithm?"
      ]
    },
    {
      "cell_type": "markdown",
      "metadata": {
        "id": "ka3z1sJVInS5"
      },
      "source": [
        "**Solution**\n",
        "We believe that after certain number of keypoints, the performance will imrpove but increasing number of keypoints to a very large number can also result very big computational cost while the performance may not increase drastically after a certain point."
      ]
    },
    {
      "cell_type": "markdown",
      "metadata": {
        "id": "gqRUGL7KNEK5"
      },
      "source": [
        "\n",
        "---\n",
        "\n",
        "# **End of P7: Image Classification using Bag of Visual Words**\n",
        "\n",
        "This notebook is part of **Deliverable 3**\n",
        "\n",
        "Deadline for Deliverable 3 (P6 and P7) submission in CampusVirtual is: **Monday, the 18th of November, 2024**\n"
      ]
    }
  ],
  "metadata": {
    "colab": {
      "provenance": []
    },
    "kernelspec": {
      "display_name": "Python 3 (ipykernel)",
      "language": "python",
      "name": "python3"
    },
    "language_info": {
      "codemirror_mode": {
        "name": "ipython",
        "version": 3
      },
      "file_extension": ".py",
      "mimetype": "text/x-python",
      "name": "python",
      "nbconvert_exporter": "python",
      "pygments_lexer": "ipython3",
      "version": "3.10.12"
    }
  },
  "nbformat": 4,
  "nbformat_minor": 0
}